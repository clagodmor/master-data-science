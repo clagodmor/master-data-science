{
 "cells": [
  {
   "cell_type": "markdown",
   "metadata": {},
   "source": [
    "## XGboost modelling\n",
    "\n",
    "\n"
   ]
  },
  {
   "cell_type": "code",
   "execution_count": 1,
   "metadata": {},
   "outputs": [],
   "source": [
    "import pandas as pd\n",
    "import numpy as np\n",
    "import xgboost as xgb\n",
    "from sklearn.model_selection import train_test_split\n",
    "import seaborn as sns\n",
    "import matplotlib.pyplot as plt"
   ]
  },
  {
   "cell_type": "code",
   "execution_count": 2,
   "metadata": {},
   "outputs": [
    {
     "data": {
      "text/html": [
       "<div>\n",
       "<style scoped>\n",
       "    .dataframe tbody tr th:only-of-type {\n",
       "        vertical-align: middle;\n",
       "    }\n",
       "\n",
       "    .dataframe tbody tr th {\n",
       "        vertical-align: top;\n",
       "    }\n",
       "\n",
       "    .dataframe thead th {\n",
       "        text-align: right;\n",
       "    }\n",
       "</style>\n",
       "<table border=\"1\" class=\"dataframe\">\n",
       "  <thead>\n",
       "    <tr style=\"text-align: right;\">\n",
       "      <th></th>\n",
       "      <th>date</th>\n",
       "      <th>price</th>\n",
       "      <th>wind</th>\n",
       "      <th>demand</th>\n",
       "      <th>photo</th>\n",
       "      <th>temp</th>\n",
       "      <th>thermo</th>\n",
       "      <th>hydro_disp</th>\n",
       "      <th>hydro_prod</th>\n",
       "    </tr>\n",
       "  </thead>\n",
       "  <tbody>\n",
       "    <tr>\n",
       "      <th>0</th>\n",
       "      <td>2014-01-01 01:00:00</td>\n",
       "      <td>0.535</td>\n",
       "      <td>11052000</td>\n",
       "      <td>21136100</td>\n",
       "      <td>151</td>\n",
       "      <td>2791.0</td>\n",
       "      <td>0</td>\n",
       "      <td>16503000</td>\n",
       "      <td>1649700</td>\n",
       "    </tr>\n",
       "    <tr>\n",
       "      <th>1</th>\n",
       "      <td>2014-01-01 02:00:00</td>\n",
       "      <td>0.500</td>\n",
       "      <td>10774000</td>\n",
       "      <td>19911100</td>\n",
       "      <td>160</td>\n",
       "      <td>2791.0</td>\n",
       "      <td>0</td>\n",
       "      <td>16503000</td>\n",
       "      <td>1492600</td>\n",
       "    </tr>\n",
       "    <tr>\n",
       "      <th>2</th>\n",
       "      <td>2014-01-01 03:00:00</td>\n",
       "      <td>0.050</td>\n",
       "      <td>10669000</td>\n",
       "      <td>19060000</td>\n",
       "      <td>151</td>\n",
       "      <td>2792.0</td>\n",
       "      <td>0</td>\n",
       "      <td>16503000</td>\n",
       "      <td>1346200</td>\n",
       "    </tr>\n",
       "    <tr>\n",
       "      <th>3</th>\n",
       "      <td>2014-01-01 04:00:00</td>\n",
       "      <td>0.000</td>\n",
       "      <td>10595000</td>\n",
       "      <td>19080200</td>\n",
       "      <td>154</td>\n",
       "      <td>2793.0</td>\n",
       "      <td>0</td>\n",
       "      <td>16503000</td>\n",
       "      <td>1328300</td>\n",
       "    </tr>\n",
       "    <tr>\n",
       "      <th>4</th>\n",
       "      <td>2014-01-01 05:00:00</td>\n",
       "      <td>0.000</td>\n",
       "      <td>10242000</td>\n",
       "      <td>18719500</td>\n",
       "      <td>164</td>\n",
       "      <td>2794.0</td>\n",
       "      <td>0</td>\n",
       "      <td>16503000</td>\n",
       "      <td>1304600</td>\n",
       "    </tr>\n",
       "  </tbody>\n",
       "</table>\n",
       "</div>"
      ],
      "text/plain": [
       "                  date  price      wind    demand  photo    temp  thermo  \\\n",
       "0  2014-01-01 01:00:00  0.535  11052000  21136100    151  2791.0       0   \n",
       "1  2014-01-01 02:00:00  0.500  10774000  19911100    160  2791.0       0   \n",
       "2  2014-01-01 03:00:00  0.050  10669000  19060000    151  2792.0       0   \n",
       "3  2014-01-01 04:00:00  0.000  10595000  19080200    154  2793.0       0   \n",
       "4  2014-01-01 05:00:00  0.000  10242000  18719500    164  2794.0       0   \n",
       "\n",
       "   hydro_disp  hydro_prod  \n",
       "0    16503000     1649700  \n",
       "1    16503000     1492600  \n",
       "2    16503000     1346200  \n",
       "3    16503000     1328300  \n",
       "4    16503000     1304600  "
      ]
     },
     "execution_count": 2,
     "metadata": {},
     "output_type": "execute_result"
    }
   ],
   "source": [
    "data = pd.read_csv('data/TOTAL.csv')\n",
    "\n",
    "data.head()"
   ]
  },
  {
   "cell_type": "code",
   "execution_count": 3,
   "metadata": {},
   "outputs": [],
   "source": [
    "new_data = data[['wind','demand','photo','temp','thermo','hydro_disp','hydro_prod']]\n"
   ]
  },
  {
   "cell_type": "code",
   "execution_count": 4,
   "metadata": {},
   "outputs": [],
   "source": [
    "X = new_data.values\n",
    "y = data['price'].values"
   ]
  },
  {
   "cell_type": "code",
   "execution_count": 5,
   "metadata": {},
   "outputs": [],
   "source": [
    "X_train, X_test, y_train, y_test = train_test_split(X, y ,test_size=0.2)"
   ]
  },
  {
   "cell_type": "code",
   "execution_count": 71,
   "metadata": {},
   "outputs": [
    {
     "name": "stdout",
     "output_type": "stream",
     "text": [
      "XGBRegressor(base_score=0.5, booster='gbtree', colsample_bylevel=1,\n",
      "       colsample_bynode=1, colsample_bytree=1, gamma=0.3,\n",
      "       importance_type='gain', learning_rate=0.4, max_delta_step=0,\n",
      "       max_depth=5, min_child_weight=1, missing=None, n_estimators=500,\n",
      "       n_jobs=1, nthread=None, objective='reg:squarederror',\n",
      "       random_state=0, reg_alpha=0, reg_lambda=1, scale_pos_weight=1,\n",
      "       seed=None, silent=None, subsample=0.9, verbosity=1)\n"
     ]
    }
   ],
   "source": [
    "#Fitting XGB regressor \n",
    "model = xgb.XGBRegressor(n_estimators=500, learning_rate=0.4, gamma=0.3, subsample=0.9,\n",
    "                               colsample_bytree=1, max_depth=5,objective='reg:squarederror')\n",
    "model.fit(X_train,y_train)\n",
    "print (model)"
   ]
  },
  {
   "cell_type": "code",
   "execution_count": 72,
   "metadata": {},
   "outputs": [
    {
     "data": {
      "text/plain": [
       "array([5.431054 , 4.4149313, 3.4674544, ..., 1.363234 , 6.1873384,\n",
       "       2.1331277], dtype=float32)"
      ]
     },
     "execution_count": 72,
     "metadata": {},
     "output_type": "execute_result"
    }
   ],
   "source": [
    "output = model.predict(data=X_test)\n",
    "output"
   ]
  },
  {
   "cell_type": "code",
   "execution_count": 87,
   "metadata": {},
   "outputs": [
    {
     "data": {
      "text/html": [
       "<div>\n",
       "<style scoped>\n",
       "    .dataframe tbody tr th:only-of-type {\n",
       "        vertical-align: middle;\n",
       "    }\n",
       "\n",
       "    .dataframe tbody tr th {\n",
       "        vertical-align: top;\n",
       "    }\n",
       "\n",
       "    .dataframe thead th {\n",
       "        text-align: right;\n",
       "    }\n",
       "</style>\n",
       "<table border=\"1\" class=\"dataframe\">\n",
       "  <thead>\n",
       "    <tr style=\"text-align: right;\">\n",
       "      <th></th>\n",
       "      <th>pred</th>\n",
       "      <th>real</th>\n",
       "    </tr>\n",
       "  </thead>\n",
       "  <tbody>\n",
       "    <tr>\n",
       "      <th>0</th>\n",
       "      <td>5.431054</td>\n",
       "      <td>5.098</td>\n",
       "    </tr>\n",
       "    <tr>\n",
       "      <th>1</th>\n",
       "      <td>4.414931</td>\n",
       "      <td>4.367</td>\n",
       "    </tr>\n",
       "    <tr>\n",
       "      <th>2</th>\n",
       "      <td>3.467454</td>\n",
       "      <td>2.108</td>\n",
       "    </tr>\n",
       "    <tr>\n",
       "      <th>3</th>\n",
       "      <td>4.203823</td>\n",
       "      <td>4.421</td>\n",
       "    </tr>\n",
       "    <tr>\n",
       "      <th>4</th>\n",
       "      <td>7.473138</td>\n",
       "      <td>7.841</td>\n",
       "    </tr>\n",
       "  </tbody>\n",
       "</table>\n",
       "</div>"
      ],
      "text/plain": [
       "       pred   real\n",
       "0  5.431054  5.098\n",
       "1  4.414931  4.367\n",
       "2  3.467454  2.108\n",
       "3  4.203823  4.421\n",
       "4  7.473138  7.841"
      ]
     },
     "execution_count": 87,
     "metadata": {},
     "output_type": "execute_result"
    }
   ],
   "source": [
    "comp=pd.DataFrame({'pred':output,'real':y_test})\n",
    "comp.head()"
   ]
  },
  {
   "cell_type": "code",
   "execution_count": 39,
   "metadata": {},
   "outputs": [],
   "source": [
    "from scipy import stats\n",
    "def r2(x, y):\n",
    "    return stats.pearsonr(x, y)\n",
    "def npr2(x,y):\n",
    "    return np.corrcoef(x,y)[0,1]**2"
   ]
  },
  {
   "cell_type": "code",
   "execution_count": 88,
   "metadata": {},
   "outputs": [
    {
     "name": "stderr",
     "output_type": "stream",
     "text": [
      "C:\\Users\\cgodoy\\AppData\\Local\\Continuum\\anaconda2\\lib\\site-packages\\seaborn\\axisgrid.py:1847: UserWarning: JointGrid annotation is deprecated and will be removed in a future release.\n",
      "  warnings.warn(UserWarning(msg))\n"
     ]
    },
    {
     "data": {
      "image/png": "[encoded data removed]",
      "text/plain": [
       "<Figure size 504x504 with 3 Axes>"
      ]
     },
     "metadata": {},
     "output_type": "display_data"
    }
   ],
   "source": [
    "sns.set(style=\"darkgrid\")\n",
    "g = sns.jointplot(\"pred\", \"real\", data=comp, kind=\"reg\",\n",
    "                  xlim=(0,10), ylim=(0, 10), color=\"grey\", \n",
    "                  height=7,stat_func=npr2, scatter_kws={'s':1},\n",
    "                  joint_kws={'color':'grey','line_kws':{'color':'r'}})"
   ]
  },
  {
   "cell_type": "code",
   "execution_count": 94,
   "metadata": {},
   "outputs": [
    {
     "data": {
      "text/html": [
       "<div>\n",
       "<style scoped>\n",
       "    .dataframe tbody tr th:only-of-type {\n",
       "        vertical-align: middle;\n",
       "    }\n",
       "\n",
       "    .dataframe tbody tr th {\n",
       "        vertical-align: top;\n",
       "    }\n",
       "\n",
       "    .dataframe thead th {\n",
       "        text-align: right;\n",
       "    }\n",
       "</style>\n",
       "<table border=\"1\" class=\"dataframe\">\n",
       "  <thead>\n",
       "    <tr style=\"text-align: right;\">\n",
       "      <th></th>\n",
       "      <th>date</th>\n",
       "      <th>price</th>\n",
       "      <th>wind</th>\n",
       "      <th>demand</th>\n",
       "      <th>photo</th>\n",
       "      <th>temp</th>\n",
       "      <th>thermo</th>\n",
       "      <th>hydro_disp</th>\n",
       "      <th>hydro_prod</th>\n",
       "    </tr>\n",
       "  </thead>\n",
       "  <tbody>\n",
       "    <tr>\n",
       "      <th>24438</th>\n",
       "      <td>2017-05-01 01:00:00</td>\n",
       "      <td>2.543</td>\n",
       "      <td>7350430</td>\n",
       "      <td>19512600</td>\n",
       "      <td>822</td>\n",
       "      <td>2823.0</td>\n",
       "      <td>101750</td>\n",
       "      <td>16584900</td>\n",
       "      <td>996100</td>\n",
       "    </tr>\n",
       "    <tr>\n",
       "      <th>24439</th>\n",
       "      <td>2017-05-01 02:00:00</td>\n",
       "      <td>2.886</td>\n",
       "      <td>6878140</td>\n",
       "      <td>19271400</td>\n",
       "      <td>825</td>\n",
       "      <td>2815.0</td>\n",
       "      <td>101000</td>\n",
       "      <td>16584900</td>\n",
       "      <td>1017200</td>\n",
       "    </tr>\n",
       "    <tr>\n",
       "      <th>24440</th>\n",
       "      <td>2017-05-01 03:00:00</td>\n",
       "      <td>3.001</td>\n",
       "      <td>6335000</td>\n",
       "      <td>19283000</td>\n",
       "      <td>872</td>\n",
       "      <td>2809.0</td>\n",
       "      <td>101000</td>\n",
       "      <td>16584900</td>\n",
       "      <td>888100</td>\n",
       "    </tr>\n",
       "    <tr>\n",
       "      <th>24441</th>\n",
       "      <td>2017-05-01 04:00:00</td>\n",
       "      <td>3.401</td>\n",
       "      <td>6084140</td>\n",
       "      <td>19558400</td>\n",
       "      <td>1494</td>\n",
       "      <td>2804.0</td>\n",
       "      <td>92250</td>\n",
       "      <td>16584900</td>\n",
       "      <td>939400</td>\n",
       "    </tr>\n",
       "    <tr>\n",
       "      <th>24442</th>\n",
       "      <td>2017-05-01 05:00:00</td>\n",
       "      <td>3.498</td>\n",
       "      <td>5710860</td>\n",
       "      <td>19137100</td>\n",
       "      <td>54104</td>\n",
       "      <td>2803.0</td>\n",
       "      <td>38000</td>\n",
       "      <td>16584900</td>\n",
       "      <td>1008800</td>\n",
       "    </tr>\n",
       "  </tbody>\n",
       "</table>\n",
       "</div>"
      ],
      "text/plain": [
       "                      date  price     wind    demand  photo    temp  thermo  \\\n",
       "24438  2017-05-01 01:00:00  2.543  7350430  19512600    822  2823.0  101750   \n",
       "24439  2017-05-01 02:00:00  2.886  6878140  19271400    825  2815.0  101000   \n",
       "24440  2017-05-01 03:00:00  3.001  6335000  19283000    872  2809.0  101000   \n",
       "24441  2017-05-01 04:00:00  3.401  6084140  19558400   1494  2804.0   92250   \n",
       "24442  2017-05-01 05:00:00  3.498  5710860  19137100  54104  2803.0   38000   \n",
       "\n",
       "       hydro_disp  hydro_prod  \n",
       "24438    16584900      996100  \n",
       "24439    16584900     1017200  \n",
       "24440    16584900      888100  \n",
       "24441    16584900      939400  \n",
       "24442    16584900     1008800  "
      ]
     },
     "execution_count": 94,
     "metadata": {},
     "output_type": "execute_result"
    }
   ],
   "source": [
    "pintar=data[data['date']>='2017-05-01 00:00:00']\n",
    "pintar.head()"
   ]
  },
  {
   "cell_type": "code",
   "execution_count": 95,
   "metadata": {},
   "outputs": [],
   "source": [
    "new_pintar = pintar[['wind','demand','photo','temp','thermo','hydro_disp','hydro_prod']]"
   ]
  },
  {
   "cell_type": "code",
   "execution_count": 96,
   "metadata": {},
   "outputs": [],
   "source": [
    "y = pintar['price'].values\n",
    "X = new_pintar.values"
   ]
  },
  {
   "cell_type": "code",
   "execution_count": 97,
   "metadata": {},
   "outputs": [
    {
     "data": {
      "text/plain": [
       "array([2.7227733, 3.0635073, 3.102362 , ..., 5.6877112, 5.312685 ,\n",
       "       5.319164 ], dtype=float32)"
      ]
     },
     "execution_count": 97,
     "metadata": {},
     "output_type": "execute_result"
    }
   ],
   "source": [
    "output_2 = model.predict(data=X)\n",
    "output_2"
   ]
  },
  {
   "cell_type": "code",
   "execution_count": 98,
   "metadata": {
    "scrolled": true
   },
   "outputs": [
    {
     "data": {
      "text/html": [
       "<div>\n",
       "<style scoped>\n",
       "    .dataframe tbody tr th:only-of-type {\n",
       "        vertical-align: middle;\n",
       "    }\n",
       "\n",
       "    .dataframe tbody tr th {\n",
       "        vertical-align: top;\n",
       "    }\n",
       "\n",
       "    .dataframe thead th {\n",
       "        text-align: right;\n",
       "    }\n",
       "</style>\n",
       "<table border=\"1\" class=\"dataframe\">\n",
       "  <thead>\n",
       "    <tr style=\"text-align: right;\">\n",
       "      <th></th>\n",
       "      <th>predicted</th>\n",
       "      <th>real</th>\n",
       "    </tr>\n",
       "  </thead>\n",
       "  <tbody>\n",
       "    <tr>\n",
       "      <th>0</th>\n",
       "      <td>2.722773</td>\n",
       "      <td>2.543</td>\n",
       "    </tr>\n",
       "    <tr>\n",
       "      <th>1</th>\n",
       "      <td>3.063507</td>\n",
       "      <td>2.886</td>\n",
       "    </tr>\n",
       "    <tr>\n",
       "      <th>2</th>\n",
       "      <td>3.102362</td>\n",
       "      <td>3.001</td>\n",
       "    </tr>\n",
       "    <tr>\n",
       "      <th>3</th>\n",
       "      <td>3.029477</td>\n",
       "      <td>3.401</td>\n",
       "    </tr>\n",
       "    <tr>\n",
       "      <th>4</th>\n",
       "      <td>3.723514</td>\n",
       "      <td>3.498</td>\n",
       "    </tr>\n",
       "  </tbody>\n",
       "</table>\n",
       "</div>"
      ],
      "text/plain": [
       "   predicted   real\n",
       "0   2.722773  2.543\n",
       "1   3.063507  2.886\n",
       "2   3.102362  3.001\n",
       "3   3.029477  3.401\n",
       "4   3.723514  3.498"
      ]
     },
     "execution_count": 98,
     "metadata": {},
     "output_type": "execute_result"
    }
   ],
   "source": [
    "comp2=pd.DataFrame({'predicted':output_2,'real':y})\n",
    "comp2.head()"
   ]
  },
  {
   "cell_type": "code",
   "execution_count": 103,
   "metadata": {},
   "outputs": [
    {
     "name": "stderr",
     "output_type": "stream",
     "text": [
      "C:\\Users\\cgodoy\\AppData\\Local\\Continuum\\anaconda2\\lib\\site-packages\\seaborn\\axisgrid.py:1847: UserWarning: JointGrid annotation is deprecated and will be removed in a future release.\n",
      "  warnings.warn(UserWarning(msg))\n"
     ]
    },
    {
     "data": {
      "image/png": "[encoded data removed]",
      "text/plain": [
       "<Figure size 360x360 with 3 Axes>"
      ]
     },
     "metadata": {},
     "output_type": "display_data"
    }
   ],
   "source": [
    "gr = sns.jointplot(\"predicted\", \"real\", data=comp2, kind=\"reg\",\n",
    "                  xlim=(0.2, 10), ylim=(0.2, 10), color=\"grey\", \n",
    "                 height=5,stat_func=npr2, scatter_kws={'s':4},\n",
    "                  joint_kws={'color':'grey','line_kws':{'color':'red'}}, ci=95)"
   ]
  },
  {
   "cell_type": "code",
   "execution_count": 102,
   "metadata": {
    "scrolled": true
   },
   "outputs": [
    {
     "data": {
      "text/html": [
       "<div>\n",
       "<style scoped>\n",
       "    .dataframe tbody tr th:only-of-type {\n",
       "        vertical-align: middle;\n",
       "    }\n",
       "\n",
       "    .dataframe tbody tr th {\n",
       "        vertical-align: top;\n",
       "    }\n",
       "\n",
       "    .dataframe thead th {\n",
       "        text-align: right;\n",
       "    }\n",
       "</style>\n",
       "<table border=\"1\" class=\"dataframe\">\n",
       "  <thead>\n",
       "    <tr style=\"text-align: right;\">\n",
       "      <th></th>\n",
       "      <th>predicted</th>\n",
       "      <th>price</th>\n",
       "    </tr>\n",
       "  </thead>\n",
       "  <tbody>\n",
       "    <tr>\n",
       "      <th>0</th>\n",
       "      <td>2.722773</td>\n",
       "      <td>2.543</td>\n",
       "    </tr>\n",
       "    <tr>\n",
       "      <th>1</th>\n",
       "      <td>3.063507</td>\n",
       "      <td>2.886</td>\n",
       "    </tr>\n",
       "    <tr>\n",
       "      <th>2</th>\n",
       "      <td>3.102362</td>\n",
       "      <td>3.001</td>\n",
       "    </tr>\n",
       "    <tr>\n",
       "      <th>3</th>\n",
       "      <td>3.029477</td>\n",
       "      <td>3.401</td>\n",
       "    </tr>\n",
       "    <tr>\n",
       "      <th>4</th>\n",
       "      <td>3.723514</td>\n",
       "      <td>3.498</td>\n",
       "    </tr>\n",
       "  </tbody>\n",
       "</table>\n",
       "</div>"
      ],
      "text/plain": [
       "   predicted  price\n",
       "0   2.722773  2.543\n",
       "1   3.063507  2.886\n",
       "2   3.102362  3.001\n",
       "3   3.029477  3.401\n",
       "4   3.723514  3.498"
      ]
     },
     "execution_count": 102,
     "metadata": {},
     "output_type": "execute_result"
    }
   ],
   "source": [
    "PRED=comp2.rename(columns={'real':'price'})\n",
    "PRED.head()"
   ]
  },
  {
   "cell_type": "code",
   "execution_count": 104,
   "metadata": {},
   "outputs": [
    {
     "data": {
      "text/html": [
       "<div>\n",
       "<style scoped>\n",
       "    .dataframe tbody tr th:only-of-type {\n",
       "        vertical-align: middle;\n",
       "    }\n",
       "\n",
       "    .dataframe tbody tr th {\n",
       "        vertical-align: top;\n",
       "    }\n",
       "\n",
       "    .dataframe thead th {\n",
       "        text-align: right;\n",
       "    }\n",
       "</style>\n",
       "<table border=\"1\" class=\"dataframe\">\n",
       "  <thead>\n",
       "    <tr style=\"text-align: right;\">\n",
       "      <th></th>\n",
       "      <th>predicted</th>\n",
       "      <th>price</th>\n",
       "      <th>date</th>\n",
       "      <th>wind</th>\n",
       "      <th>demand</th>\n",
       "      <th>photo</th>\n",
       "      <th>temp</th>\n",
       "      <th>thermo</th>\n",
       "      <th>hydro_disp</th>\n",
       "      <th>hydro_prod</th>\n",
       "    </tr>\n",
       "  </thead>\n",
       "  <tbody>\n",
       "    <tr>\n",
       "      <th>0</th>\n",
       "      <td>2.722773</td>\n",
       "      <td>2.543</td>\n",
       "      <td>2017-05-01 01:00:00</td>\n",
       "      <td>7350430</td>\n",
       "      <td>19512600</td>\n",
       "      <td>822</td>\n",
       "      <td>2823.0</td>\n",
       "      <td>101750</td>\n",
       "      <td>16584900</td>\n",
       "      <td>996100</td>\n",
       "    </tr>\n",
       "    <tr>\n",
       "      <th>1</th>\n",
       "      <td>3.063507</td>\n",
       "      <td>2.886</td>\n",
       "      <td>2017-05-01 02:00:00</td>\n",
       "      <td>6878140</td>\n",
       "      <td>19271400</td>\n",
       "      <td>825</td>\n",
       "      <td>2815.0</td>\n",
       "      <td>101000</td>\n",
       "      <td>16584900</td>\n",
       "      <td>1017200</td>\n",
       "    </tr>\n",
       "    <tr>\n",
       "      <th>2</th>\n",
       "      <td>3.102362</td>\n",
       "      <td>3.001</td>\n",
       "      <td>2017-05-01 03:00:00</td>\n",
       "      <td>6335000</td>\n",
       "      <td>19283000</td>\n",
       "      <td>872</td>\n",
       "      <td>2809.0</td>\n",
       "      <td>101000</td>\n",
       "      <td>16584900</td>\n",
       "      <td>888100</td>\n",
       "    </tr>\n",
       "    <tr>\n",
       "      <th>3</th>\n",
       "      <td>3.102362</td>\n",
       "      <td>3.001</td>\n",
       "      <td>2017-12-31 19:00:00</td>\n",
       "      <td>14799900</td>\n",
       "      <td>28535100</td>\n",
       "      <td>304</td>\n",
       "      <td>2846.0</td>\n",
       "      <td>0</td>\n",
       "      <td>17432900</td>\n",
       "      <td>2570500</td>\n",
       "    </tr>\n",
       "    <tr>\n",
       "      <th>4</th>\n",
       "      <td>3.069327</td>\n",
       "      <td>3.001</td>\n",
       "      <td>2017-05-01 03:00:00</td>\n",
       "      <td>6335000</td>\n",
       "      <td>19283000</td>\n",
       "      <td>872</td>\n",
       "      <td>2809.0</td>\n",
       "      <td>101000</td>\n",
       "      <td>16584900</td>\n",
       "      <td>888100</td>\n",
       "    </tr>\n",
       "  </tbody>\n",
       "</table>\n",
       "</div>"
      ],
      "text/plain": [
       "   predicted  price                 date      wind    demand  photo    temp  \\\n",
       "0   2.722773  2.543  2017-05-01 01:00:00   7350430  19512600    822  2823.0   \n",
       "1   3.063507  2.886  2017-05-01 02:00:00   6878140  19271400    825  2815.0   \n",
       "2   3.102362  3.001  2017-05-01 03:00:00   6335000  19283000    872  2809.0   \n",
       "3   3.102362  3.001  2017-12-31 19:00:00  14799900  28535100    304  2846.0   \n",
       "4   3.069327  3.001  2017-05-01 03:00:00   6335000  19283000    872  2809.0   \n",
       "\n",
       "   thermo  hydro_disp  hydro_prod  \n",
       "0  101750    16584900      996100  \n",
       "1  101000    16584900     1017200  \n",
       "2  101000    16584900      888100  \n",
       "3       0    17432900     2570500  \n",
       "4  101000    16584900      888100  "
      ]
     },
     "execution_count": 104,
     "metadata": {},
     "output_type": "execute_result"
    }
   ],
   "source": [
    "pre=PRED.merge(pintar,left_on= 'price',right_on='price',how='inner')\n",
    "pre.head()"
   ]
  },
  {
   "cell_type": "code",
   "execution_count": 107,
   "metadata": {},
   "outputs": [],
   "source": [
    "pre=pre.drop(['price'],axis=1)"
   ]
  },
  {
   "cell_type": "code",
   "execution_count": 108,
   "metadata": {},
   "outputs": [
    {
     "data": {
      "text/html": [
       "<div>\n",
       "<style scoped>\n",
       "    .dataframe tbody tr th:only-of-type {\n",
       "        vertical-align: middle;\n",
       "    }\n",
       "\n",
       "    .dataframe tbody tr th {\n",
       "        vertical-align: top;\n",
       "    }\n",
       "\n",
       "    .dataframe thead th {\n",
       "        text-align: right;\n",
       "    }\n",
       "</style>\n",
       "<table border=\"1\" class=\"dataframe\">\n",
       "  <thead>\n",
       "    <tr style=\"text-align: right;\">\n",
       "      <th></th>\n",
       "      <th>price</th>\n",
       "      <th>date</th>\n",
       "      <th>wind</th>\n",
       "      <th>demand</th>\n",
       "      <th>photo</th>\n",
       "      <th>temp</th>\n",
       "      <th>thermo</th>\n",
       "      <th>hydro_disp</th>\n",
       "      <th>hydro_prod</th>\n",
       "    </tr>\n",
       "  </thead>\n",
       "  <tbody>\n",
       "    <tr>\n",
       "      <th>0</th>\n",
       "      <td>2.722773</td>\n",
       "      <td>2017-05-01 01:00:00</td>\n",
       "      <td>7350430</td>\n",
       "      <td>19512600</td>\n",
       "      <td>822</td>\n",
       "      <td>2823.0</td>\n",
       "      <td>101750</td>\n",
       "      <td>16584900</td>\n",
       "      <td>996100</td>\n",
       "    </tr>\n",
       "    <tr>\n",
       "      <th>1</th>\n",
       "      <td>3.063507</td>\n",
       "      <td>2017-05-01 02:00:00</td>\n",
       "      <td>6878140</td>\n",
       "      <td>19271400</td>\n",
       "      <td>825</td>\n",
       "      <td>2815.0</td>\n",
       "      <td>101000</td>\n",
       "      <td>16584900</td>\n",
       "      <td>1017200</td>\n",
       "    </tr>\n",
       "    <tr>\n",
       "      <th>2</th>\n",
       "      <td>3.102362</td>\n",
       "      <td>2017-05-01 03:00:00</td>\n",
       "      <td>6335000</td>\n",
       "      <td>19283000</td>\n",
       "      <td>872</td>\n",
       "      <td>2809.0</td>\n",
       "      <td>101000</td>\n",
       "      <td>16584900</td>\n",
       "      <td>888100</td>\n",
       "    </tr>\n",
       "    <tr>\n",
       "      <th>3</th>\n",
       "      <td>3.102362</td>\n",
       "      <td>2017-12-31 19:00:00</td>\n",
       "      <td>14799900</td>\n",
       "      <td>28535100</td>\n",
       "      <td>304</td>\n",
       "      <td>2846.0</td>\n",
       "      <td>0</td>\n",
       "      <td>17432900</td>\n",
       "      <td>2570500</td>\n",
       "    </tr>\n",
       "    <tr>\n",
       "      <th>4</th>\n",
       "      <td>3.069327</td>\n",
       "      <td>2017-05-01 03:00:00</td>\n",
       "      <td>6335000</td>\n",
       "      <td>19283000</td>\n",
       "      <td>872</td>\n",
       "      <td>2809.0</td>\n",
       "      <td>101000</td>\n",
       "      <td>16584900</td>\n",
       "      <td>888100</td>\n",
       "    </tr>\n",
       "  </tbody>\n",
       "</table>\n",
       "</div>"
      ],
      "text/plain": [
       "      price                 date      wind    demand  photo    temp  thermo  \\\n",
       "0  2.722773  2017-05-01 01:00:00   7350430  19512600    822  2823.0  101750   \n",
       "1  3.063507  2017-05-01 02:00:00   6878140  19271400    825  2815.0  101000   \n",
       "2  3.102362  2017-05-01 03:00:00   6335000  19283000    872  2809.0  101000   \n",
       "3  3.102362  2017-12-31 19:00:00  14799900  28535100    304  2846.0       0   \n",
       "4  3.069327  2017-05-01 03:00:00   6335000  19283000    872  2809.0  101000   \n",
       "\n",
       "   hydro_disp  hydro_prod  \n",
       "0    16584900      996100  \n",
       "1    16584900     1017200  \n",
       "2    16584900      888100  \n",
       "3    17432900     2570500  \n",
       "4    16584900      888100  "
      ]
     },
     "execution_count": 108,
     "metadata": {},
     "output_type": "execute_result"
    }
   ],
   "source": [
    "pre=pre.rename(columns={'predicted':'price'})\n",
    "pre.head()"
   ]
  },
  {
   "cell_type": "code",
   "execution_count": 109,
   "metadata": {},
   "outputs": [],
   "source": [
    "#file generation\n",
    "pre.to_csv(\"prediction.csv\", index=False)"
   ]
  }
 ],
 "metadata": {
  "kernelspec": {
   "display_name": "Python 2",
   "language": "python",
   "name": "python2"
  },
  "language_info": {
   "codemirror_mode": {
    "name": "ipython",
    "version": 2
   },
   "file_extension": ".py",
   "mimetype": "text/x-python",
   "name": "python",
   "nbconvert_exporter": "python",
   "pygments_lexer": "ipython2",
   "version": "2.7.16"
  }
 },
 "nbformat": 4,
 "nbformat_minor": 2
}
